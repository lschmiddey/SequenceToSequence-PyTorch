{
 "cells": [
  {
   "cell_type": "code",
   "execution_count": 1,
   "metadata": {},
   "outputs": [],
   "source": [
    "import matplotlib.pyplot as plt\n",
    "import numpy as np\n",
    "import matplotlib.image as mpimg\n",
    "import pandas as pd\n",
    "import random\n",
    "import math\n",
    "from collections import Counter\n",
    "flatten = lambda l: [item for sublist in RowsAsList for item in sublist]\n",
    "\n",
    "import torch\n",
    "import torchvision\n",
    "import os\n",
    "from torch import nn, optim\n",
    "from torch.nn import functional as F\n",
    "from torchvision import datasets, transforms\n",
    "from torch.utils.data import Dataset, DataLoader\n",
    "from torch.autograd import Variable\n",
    "from torchvision.utils import save_image\n",
    "import time"
   ]
  },
  {
   "cell_type": "code",
   "execution_count": 2,
   "metadata": {},
   "outputs": [],
   "source": [
    "USE_CUDA = torch.cuda.is_available()\n",
    "#gpus = [0]\n",
    "#torch.cuda.set_device(gpus[0])\n",
    "\n",
    "FloatTensor = torch.cuda.FloatTensor if USE_CUDA else torch.FloatTensor\n",
    "LongTensor = torch.cuda.LongTensor if USE_CUDA else torch.LongTensor\n",
    "ByteTensor = torch.cuda.ByteTensor if USE_CUDA else torch.ByteTensor"
   ]
  },
  {
   "cell_type": "code",
   "execution_count": 3,
   "metadata": {},
   "outputs": [],
   "source": [
    "def prepare_sequence(seq, word2index):\n",
    "    idxs = list(map(lambda w: word2index[w] if word2index.get(w) is not None else word2index[\"<UNK>\"], seq))\n",
    "    return Variable(LongTensor(idxs))\n",
    "\n",
    "def prepare_word(word, word2index):\n",
    "    return Variable(LongTensor([word2index[word]]) if word2index.get(word) is not None else LongTensor([word2index[\"<UNK>\"]]))"
   ]
  },
  {
   "cell_type": "markdown",
   "metadata": {},
   "source": [
    "## Let's assume these are Article Numbers, seen in this order - different articles and different length of sequences"
   ]
  },
  {
   "cell_type": "code",
   "execution_count": 4,
   "metadata": {},
   "outputs": [],
   "source": [
    "RowsAsList = [['936751',\n",
    "  '937847',\n",
    "  '934619',\n",
    "  '965087',\n",
    "  '928416',\n",
    "  '926887',\n",
    "  '937046',\n",
    "  '918311',\n",
    "  '929940',\n",
    "  '969736',\n",
    "  '927736',\n",
    "  '915727',\n",
    "  '904645',\n",
    "  '945575',\n",
    "  '971332',\n",
    "  '921676',\n",
    "  '936763',\n",
    "  '928940',\n",
    "  '907681',\n",
    "  '917145'],\n",
    " ['945575',\n",
    "  '927135',\n",
    "  '967963',\n",
    "  '979403',\n",
    "  '904713',\n",
    "  '946313',\n",
    "  '941984',\n",
    "  '978130'],\n",
    " ['969587',\n",
    "  '976817',\n",
    "  '973131',\n",
    "  '957345',\n",
    "  '944981',\n",
    "  '913876',\n",
    "  '905890',\n",
    "  '969418',\n",
    "  '910574',\n",
    "  '941952']]"
   ]
  },
  {
   "cell_type": "code",
   "execution_count": 5,
   "metadata": {},
   "outputs": [],
   "source": [
    "vocab = list(set(flatten(RowsAsList)))\n",
    "vocab.insert(0,'<UNK>')\n",
    "\n",
    "n_vocab = len(vocab)\n",
    "\n",
    "word2index = {'<UNK>' : 0} \n",
    "\n",
    "for vo in vocab:\n",
    "    if word2index.get(vo) is None:\n",
    "        word2index[vo] = len(word2index)\n",
    "\n",
    "index2word = {v:k for k, v in word2index.items()} \n"
   ]
  },
  {
   "cell_type": "code",
   "execution_count": 6,
   "metadata": {},
   "outputs": [
    {
     "data": {
      "text/plain": [
       "(20, 8)"
      ]
     },
     "execution_count": 6,
     "metadata": {},
     "output_type": "execute_result"
    }
   ],
   "source": [
    "len(RowsAsList[0]), len(RowsAsList[1])"
   ]
  },
  {
   "cell_type": "code",
   "execution_count": 7,
   "metadata": {},
   "outputs": [
    {
     "data": {
      "text/plain": [
       "(['<UNK>', '936763', '907681', '957345'], 38)"
      ]
     },
     "execution_count": 7,
     "metadata": {},
     "output_type": "execute_result"
    }
   ],
   "source": [
    "vocab[:4], len(vocab)"
   ]
  },
  {
   "cell_type": "code",
   "execution_count": 8,
   "metadata": {},
   "outputs": [],
   "source": [
    "# Find letter index from vocab, e.g. \"936751\" = 1\n",
    "def artToIndex(art):\n",
    "    return word2index.get(art)\n",
    "\n",
    "# Just for demonstration, turn a article into a <1 x n_articles> Tensor\n",
    "def artToTensor(art):\n",
    "    tensor = torch.zeros(1, n_vocab)\n",
    "    #tensor = torch.zeros(1, n_vocab, device=torch.device(\"cuda\")) # use if cuda is available\n",
    "    tensor[0][artToIndex(art)] = 1\n",
    "    return tensor\n",
    "\n",
    "# Turn a list into a <line_length x 1 x n_letters>,\n",
    "# or an array of one-hot article vectors\n",
    "def listToTensor(list):\n",
    "    tensor = torch.zeros(len(list), 1, n_vocab)\n",
    "    #tensor = torch.zeros(len(list), 1, n_vocab, device=torch.device(\"cuda\")) # use if cuda is available\n",
    "    for element, art in enumerate(list):\n",
    "        tensor[element][0][artToIndex(art)] = 1\n",
    "    return tensor"
   ]
  },
  {
   "cell_type": "markdown",
   "metadata": {},
   "source": [
    "# Modelling"
   ]
  },
  {
   "cell_type": "code",
   "execution_count": 9,
   "metadata": {},
   "outputs": [],
   "source": [
    "class RNN(nn.Module):\n",
    "    def __init__(self, input_size, hidden_size, output_size):\n",
    "        super(RNN, self).__init__()\n",
    "\n",
    "        self.hidden_size = hidden_size\n",
    "        \n",
    "        self.i2i = nn.Linear(input_size + hidden_size, input_size + hidden_size)\n",
    "        self.i2h = nn.Linear(input_size + hidden_size, hidden_size)\n",
    "        self.h2h = nn.Linear(hidden_size, hidden_size)\n",
    "        self.i2o = nn.Linear(input_size + hidden_size, output_size)\n",
    "        self.o2o = nn.Linear(output_size, output_size)\n",
    "        self.softmax = nn.LogSoftmax(dim=1)\n",
    "\n",
    "    def forward(self, input, hidden):\n",
    "        combined = torch.cat((input, hidden), 1)\n",
    "        combined_2 = F.selu(self.i2i(combined))\n",
    "        hidden = self.i2h(combined_2)\n",
    "        hidden = F.selu(self.h2h(hidden))\n",
    "        output = self.i2o(combined_2)\n",
    "        output = F.selu(self.o2o(output))\n",
    "        output = self.softmax(output)\n",
    "        return output, hidden\n",
    "\n",
    "    def initHidden(self):\n",
    "        return torch.zeros(1, self.hidden_size)\n",
    "        #return torch.zeros(1, self.hidden_size, device=torch.device(\"cuda\")) # use if cuda is available\n",
    "\n",
    "n_hidden = 256\n",
    "rnn = RNN(n_vocab, n_hidden, n_vocab)\n",
    "if USE_CUDA:\n",
    "    rnn = rnn.cuda()"
   ]
  },
  {
   "cell_type": "code",
   "execution_count": 10,
   "metadata": {},
   "outputs": [
    {
     "data": {
      "text/plain": [
       "False"
      ]
     },
     "execution_count": 10,
     "metadata": {},
     "output_type": "execute_result"
    }
   ],
   "source": [
    "next(rnn.parameters()).is_cuda"
   ]
  },
  {
   "cell_type": "markdown",
   "metadata": {},
   "source": [
    "Output is the length of the vocabulary, each element represents an article"
   ]
  },
  {
   "cell_type": "code",
   "execution_count": 11,
   "metadata": {},
   "outputs": [
    {
     "name": "stdout",
     "output_type": "stream",
     "text": [
      "tensor([[-3.5384, -3.6551, -3.5802, -3.5122, -3.5349, -3.6164, -3.5004, -3.6654,\n",
      "         -3.6797, -3.6035, -3.7158, -3.7371, -3.9135, -3.9631, -3.4402, -3.4510,\n",
      "         -3.8530, -3.6993, -3.6922, -3.7861, -3.5827, -3.7543, -3.4412, -3.7842,\n",
      "         -3.5253, -3.7949, -3.5194, -3.7577, -3.4973, -3.6153, -3.5648, -3.7756,\n",
      "         -3.5411, -3.8074, -3.8347, -3.6627, -3.5264, -3.4578]],\n",
      "       grad_fn=<LogSoftmaxBackward>)\n"
     ]
    }
   ],
   "source": [
    "# output ist n_vocab\n",
    "input = listToTensor(['913876', '945575'])\n",
    "hidden = torch.zeros(1, n_hidden)\n",
    "#hidden = torch.zeros(1, n_hidden, device=torch.device(\"cuda\")) # use if cuda is available\n",
    "\n",
    "output, next_hidden = rnn(input[0], hidden)\n",
    "print(output)"
   ]
  },
  {
   "cell_type": "markdown",
   "metadata": {},
   "source": [
    "# Helper Functions"
   ]
  },
  {
   "cell_type": "code",
   "execution_count": 12,
   "metadata": {},
   "outputs": [
    {
     "name": "stdout",
     "output_type": "stream",
     "text": [
      "('928940', 14)\n"
     ]
    }
   ],
   "source": [
    "def artFromOutput(output):\n",
    "    top_n, top_i = output.topk(1)\n",
    "    art_i = top_i[0].item()\n",
    "    return vocab[art_i], art_i\n",
    "\n",
    "print(artFromOutput(output))"
   ]
  },
  {
   "cell_type": "code",
   "execution_count": 13,
   "metadata": {},
   "outputs": [],
   "source": [
    "def Convert(string): \n",
    "    li = list(string.split(\", \")) \n",
    "    return li"
   ]
  },
  {
   "cell_type": "markdown",
   "metadata": {},
   "source": [
    "Create randomTrainingExample to use as a batch in training. Use sequence to decide how many articles to use to predict next article."
   ]
  },
  {
   "cell_type": "code",
   "execution_count": 14,
   "metadata": {},
   "outputs": [],
   "source": [
    "seq_length = 3\n",
    "\n",
    "def randomChoice(l):\n",
    "    rand_nr = random.randint(0, len(l) - 1)\n",
    "    return l[rand_nr]\n",
    "\n",
    "def randomTrainingExample():\n",
    "    random_session = randomChoice(RowsAsList)\n",
    "    session_len = len(random_session)\n",
    "    random_i = random.randint(0, session_len - 1 - seq_length)\n",
    "    inputs = listToTensor(random_session[random_i:random_i+seq_length])\n",
    "    targets = torch.argmax(listToTensor(Convert(random_session[random_i+seq_length])))\n",
    "    targets = torch.tensor([targets], dtype=torch.long)\n",
    "    #targets = torch.tensor([targets], dtype=torch.long, device=torch.device(\"cuda\")) # use if cuda available\n",
    "    return random_session, random_i, inputs, targets"
   ]
  },
  {
   "cell_type": "code",
   "execution_count": 15,
   "metadata": {},
   "outputs": [],
   "source": [
    "random_session, random_i, inputs, targets = randomTrainingExample()"
   ]
  },
  {
   "cell_type": "code",
   "execution_count": 16,
   "metadata": {},
   "outputs": [
    {
     "data": {
      "text/plain": [
       "['936751',\n",
       " '937847',\n",
       " '934619',\n",
       " '965087',\n",
       " '928416',\n",
       " '926887',\n",
       " '937046',\n",
       " '918311',\n",
       " '929940',\n",
       " '969736',\n",
       " '927736',\n",
       " '915727',\n",
       " '904645',\n",
       " '945575',\n",
       " '971332',\n",
       " '921676',\n",
       " '936763',\n",
       " '928940',\n",
       " '907681',\n",
       " '917145']"
      ]
     },
     "execution_count": 16,
     "metadata": {},
     "output_type": "execute_result"
    }
   ],
   "source": [
    "random_session"
   ]
  },
  {
   "cell_type": "code",
   "execution_count": 17,
   "metadata": {},
   "outputs": [
    {
     "data": {
      "text/plain": [
       "15"
      ]
     },
     "execution_count": 17,
     "metadata": {},
     "output_type": "execute_result"
    }
   ],
   "source": [
    "random_i"
   ]
  },
  {
   "cell_type": "code",
   "execution_count": 18,
   "metadata": {},
   "outputs": [
    {
     "data": {
      "text/plain": [
       "tensor([[[0., 0., 0., 0., 0., 1., 0., 0., 0., 0., 0., 0., 0., 0., 0., 0., 0.,\n",
       "          0., 0., 0., 0., 0., 0., 0., 0., 0., 0., 0., 0., 0., 0., 0., 0., 0.,\n",
       "          0., 0., 0., 0.]],\n",
       "\n",
       "        [[0., 1., 0., 0., 0., 0., 0., 0., 0., 0., 0., 0., 0., 0., 0., 0., 0.,\n",
       "          0., 0., 0., 0., 0., 0., 0., 0., 0., 0., 0., 0., 0., 0., 0., 0., 0.,\n",
       "          0., 0., 0., 0.]],\n",
       "\n",
       "        [[0., 0., 0., 0., 0., 0., 0., 0., 0., 0., 0., 0., 0., 0., 1., 0., 0.,\n",
       "          0., 0., 0., 0., 0., 0., 0., 0., 0., 0., 0., 0., 0., 0., 0., 0., 0.,\n",
       "          0., 0., 0., 0.]]])"
      ]
     },
     "execution_count": 18,
     "metadata": {},
     "output_type": "execute_result"
    }
   ],
   "source": [
    "inputs"
   ]
  },
  {
   "cell_type": "code",
   "execution_count": 19,
   "metadata": {},
   "outputs": [
    {
     "data": {
      "text/plain": [
       "tensor([2])"
      ]
     },
     "execution_count": 19,
     "metadata": {},
     "output_type": "execute_result"
    }
   ],
   "source": [
    "targets"
   ]
  },
  {
   "cell_type": "code",
   "execution_count": 21,
   "metadata": {},
   "outputs": [
    {
     "data": {
      "text/plain": [
       "'907681'"
      ]
     },
     "execution_count": 21,
     "metadata": {},
     "output_type": "execute_result"
    }
   ],
   "source": [
    "vocab[2]"
   ]
  },
  {
   "cell_type": "markdown",
   "metadata": {},
   "source": [
    "# Define Training"
   ]
  },
  {
   "cell_type": "code",
   "execution_count": 22,
   "metadata": {},
   "outputs": [],
   "source": [
    "# Loss function\n",
    "criterion = nn.NLLLoss()"
   ]
  },
  {
   "cell_type": "code",
   "execution_count": 23,
   "metadata": {},
   "outputs": [],
   "source": [
    "def train(targets, inputs):\n",
    "    hidden = rnn.initHidden()\n",
    "\n",
    "    rnn.zero_grad()\n",
    "\n",
    "    for i in range(inputs.size()[0]):\n",
    "        output, hidden = rnn(inputs[i], hidden)\n",
    "\n",
    "    loss = criterion(output, targets)\n",
    "    loss.backward()\n",
    "\n",
    "    # Add parameters' gradients to their values, multiplied by learning rate - SGD\n",
    "    for p in rnn.parameters():\n",
    "        p.data.add_(-learning_rate, p.grad.data)\n",
    "\n",
    "    return output, loss.item()"
   ]
  },
  {
   "cell_type": "code",
   "execution_count": 24,
   "metadata": {},
   "outputs": [
    {
     "name": "stdout",
     "output_type": "stream",
     "text": [
      "50 5% (0m 0s) 3.4325  \n",
      "100 10% (0m 0s) 3.5693  \n",
      "150 15% (0m 1s) 3.3120  \n",
      "200 20% (0m 1s) 3.1850  \n",
      "250 25% (0m 1s) 3.1806  \n",
      "300 30% (0m 1s) 3.0596  \n",
      "350 35% (0m 2s) 3.3713  \n",
      "400 40% (0m 2s) 2.9930  \n",
      "450 45% (0m 2s) 3.2633  \n",
      "500 50% (0m 3s) 2.9150  \n",
      "550 55% (0m 3s) 3.0499  \n",
      "600 60% (0m 3s) 2.7465  \n",
      "650 65% (0m 4s) 2.5413  \n",
      "700 70% (0m 4s) 2.6569  \n",
      "750 75% (0m 4s) 3.5253  \n",
      "800 80% (0m 5s) 3.7490  \n",
      "850 85% (0m 5s) 2.4161  \n",
      "900 90% (0m 5s) 0.4724  \n",
      "950 95% (0m 5s) 3.6187  \n",
      "1000 100% (0m 6s) 1.0102  \n"
     ]
    }
   ],
   "source": [
    "learning_rate = 0.01 # If you set this too high, it might explode. If too low, it might not learn\n",
    "\n",
    "n_iters = 1000\n",
    "print_every = 50\n",
    "plot_every = 10\n",
    "SEQ_LENGTH = 3\n",
    "\n",
    "\n",
    "# Keep track of losses for plotting\n",
    "current_loss = 0\n",
    "all_losses = []\n",
    "\n",
    "def timeSince(since):\n",
    "    now = time.time()\n",
    "    s = now - since\n",
    "    m = math.floor(s / 60)\n",
    "    s -= m * 60\n",
    "    return '%dm %ds' % (m, s)\n",
    "\n",
    "start = time.time()\n",
    "\n",
    "for iter in range(1, n_iters + 1):\n",
    "    random_session, random_i, inputs, targets = randomTrainingExample()\n",
    "    output, loss = train(targets, inputs)\n",
    "    current_loss += loss\n",
    "\n",
    "    # Print iter number, loss, name and guess\n",
    "    if iter % print_every == 0:\n",
    "        print('%d %d%% (%s) %.4f  ' % (iter, iter / n_iters * 100, timeSince(start), loss ))\n",
    "\n",
    "    # Add current loss avg to list of losses\n",
    "    if iter % plot_every == 0:\n",
    "        all_losses.append(current_loss / plot_every)\n",
    "        current_loss = 0"
   ]
  },
  {
   "cell_type": "code",
   "execution_count": 25,
   "metadata": {},
   "outputs": [
    {
     "data": {
      "text/plain": [
       "[<matplotlib.lines.Line2D at 0x21108e370f0>]"
      ]
     },
     "execution_count": 25,
     "metadata": {},
     "output_type": "execute_result"
    },
    {
     "data": {
      "image/png": "[encoded data removed]",
      "text/plain": [
       "<Figure size 432x288 with 1 Axes>"
      ]
     },
     "metadata": {},
     "output_type": "display_data"
    }
   ],
   "source": [
    "plt.figure()\n",
    "plt.plot(all_losses)"
   ]
  },
  {
   "cell_type": "code",
   "execution_count": 32,
   "metadata": {},
   "outputs": [
    {
     "name": "stdout",
     "output_type": "stream",
     "text": [
      "50 5% (0m 0s) 2.8061  \n",
      "100 10% (0m 0s) 0.2821  \n",
      "150 15% (0m 0s) 0.1563  \n",
      "200 20% (0m 1s) 0.0331  \n",
      "250 25% (0m 1s) 0.0820  \n",
      "300 30% (0m 1s) 0.0476  \n",
      "350 35% (0m 2s) 3.2287  \n",
      "400 40% (0m 2s) 0.0441  \n",
      "450 45% (0m 2s) 0.0218  \n",
      "500 50% (0m 3s) 0.2762  \n",
      "550 55% (0m 3s) 0.0123  \n",
      "600 60% (0m 3s) 3.7747  \n",
      "650 65% (0m 4s) 0.0374  \n",
      "700 70% (0m 4s) 0.0231  \n",
      "750 75% (0m 4s) 0.9519  \n",
      "800 80% (0m 5s) 0.0139  \n",
      "850 85% (0m 5s) 0.8933  \n",
      "900 90% (0m 5s) 0.0053  \n",
      "950 95% (0m 5s) 0.0024  \n",
      "1000 100% (0m 6s) 0.0086  \n"
     ]
    }
   ],
   "source": [
    "learning_rate = 0.01 # If you set this too high, it might explode. If too low, it might not learn\n",
    "\n",
    "n_iters = 1000\n",
    "print_every = 50\n",
    "plot_every = 10\n",
    "SEQ_LENGTH = 3\n",
    "\n",
    "\n",
    "# Keep track of losses for plotting\n",
    "current_loss = 0\n",
    "all_losses = []\n",
    "\n",
    "def timeSince(since):\n",
    "    now = time.time()\n",
    "    s = now - since\n",
    "    m = math.floor(s / 60)\n",
    "    s -= m * 60\n",
    "    return '%dm %ds' % (m, s)\n",
    "\n",
    "start = time.time()\n",
    "\n",
    "for iter in range(1, n_iters + 1):\n",
    "    random_session, random_i, inputs, targets = randomTrainingExample()\n",
    "    output, loss = train(targets, inputs)\n",
    "    current_loss += loss\n",
    "\n",
    "    # Print iter number, loss, name and guess\n",
    "    if iter % print_every == 0:\n",
    "        print('%d %d%% (%s) %.4f  ' % (iter, iter / n_iters * 100, timeSince(start), loss ))\n",
    "\n",
    "    # Add current loss avg to list of losses\n",
    "    if iter % plot_every == 0:\n",
    "        all_losses.append(current_loss / plot_every)\n",
    "        current_loss = 0"
   ]
  },
  {
   "cell_type": "code",
   "execution_count": 33,
   "metadata": {},
   "outputs": [
    {
     "data": {
      "text/plain": [
       "[<matplotlib.lines.Line2D at 0x21108ebccc0>]"
      ]
     },
     "execution_count": 33,
     "metadata": {},
     "output_type": "execute_result"
    },
    {
     "data": {
      "image/png": "[encoded data removed]",
      "text/plain": [
       "<Figure size 432x288 with 1 Axes>"
      ]
     },
     "metadata": {},
     "output_type": "display_data"
    }
   ],
   "source": [
    "plt.figure()\n",
    "plt.plot(all_losses)"
   ]
  },
  {
   "cell_type": "code",
   "execution_count": 34,
   "metadata": {},
   "outputs": [],
   "source": [
    "def evaluate(seq_tensor):\n",
    "    hidden = rnn.initHidden()\n",
    "\n",
    "    for i in range(seq_tensor.size()[0]):\n",
    "        output, hidden = rnn(seq_tensor[i], hidden)\n",
    "\n",
    "    return output"
   ]
  },
  {
   "cell_type": "code",
   "execution_count": 35,
   "metadata": {},
   "outputs": [],
   "source": [
    "def predict(artnr, n_predictions=3):\n",
    "    print('\\n> %s' % artnr)\n",
    "    with torch.no_grad():\n",
    "        output = evaluate(listToTensor(artnr))\n",
    "\n",
    "        # Get top N categories\n",
    "        topv, topi = output.topk(n_predictions, 1, True)\n",
    "        predictions = []\n",
    "\n",
    "        for i in range(n_predictions):\n",
    "            value = topv[0][i].item()\n",
    "            artnr_index = topi[0][i].item()\n",
    "            print('(%.2f) %s' % (value, vocab[artnr_index]))\n",
    "            predictions.append([value, vocab[artnr_index]])"
   ]
  },
  {
   "cell_type": "code",
   "execution_count": 37,
   "metadata": {},
   "outputs": [
    {
     "name": "stdout",
     "output_type": "stream",
     "text": [
      "\n",
      "> ['928416', '918311', '929940']\n",
      "(-0.17) 918311\n",
      "(-3.12) 927736\n",
      "(-3.77) 928416\n",
      "\n",
      "> ['936763', '928940', '907681']\n",
      "(-0.24) 917145\n",
      "(-2.09) 929940\n",
      "(-3.76) 927736\n",
      "\n",
      "> ['936751', '937847', '934619']\n",
      "(-0.04) 965087\n",
      "(-4.65) 945575\n",
      "(-4.66) 913876\n"
     ]
    }
   ],
   "source": [
    "predict(['928416','918311','929940'])\n",
    "predict(['936763','928940','907681'])\n",
    "predict(['936751','937847','934619'])"
   ]
  },
  {
   "cell_type": "code",
   "execution_count": 28,
   "metadata": {},
   "outputs": [
    {
     "data": {
      "text/plain": [
       "['936751',\n",
       " '937847',\n",
       " '934619',\n",
       " '965087',\n",
       " '928416',\n",
       " '926887',\n",
       " '937046',\n",
       " '918311',\n",
       " '929940',\n",
       " '969736',\n",
       " '927736',\n",
       " '915727',\n",
       " '904645',\n",
       " '945575',\n",
       " '971332',\n",
       " '921676',\n",
       " '936763',\n",
       " '928940',\n",
       " '907681',\n",
       " '917145']"
      ]
     },
     "execution_count": 28,
     "metadata": {},
     "output_type": "execute_result"
    }
   ],
   "source": [
    "(RowsAsList[0])"
   ]
  },
  {
   "cell_type": "markdown",
   "metadata": {},
   "source": [
    "also works for fewer sequences then 3"
   ]
  },
  {
   "cell_type": "code",
   "execution_count": 39,
   "metadata": {},
   "outputs": [
    {
     "name": "stdout",
     "output_type": "stream",
     "text": [
      "\n",
      "> ['937046', '918311']\n",
      "(-1.39) 929940\n",
      "(-2.09) 927736\n",
      "(-2.25) 917145\n"
     ]
    }
   ],
   "source": [
    "predict(['937046','918311'])"
   ]
  },
  {
   "cell_type": "code",
   "execution_count": null,
   "metadata": {},
   "outputs": [],
   "source": []
  }
 ],
 "metadata": {
  "kernelspec": {
   "display_name": "Python 3",
   "language": "python",
   "name": "python3"
  },
  "language_info": {
   "codemirror_mode": {
    "name": "ipython",
    "version": 3
   },
   "file_extension": ".py",
   "mimetype": "text/x-python",
   "name": "python",
   "nbconvert_exporter": "python",
   "pygments_lexer": "ipython3",
   "version": "3.6.5"
  }
 },
 "nbformat": 4,
 "nbformat_minor": 2
}
